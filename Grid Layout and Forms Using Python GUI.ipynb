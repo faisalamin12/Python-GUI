{
 "cells": [
  {
   "cell_type": "markdown",
   "metadata": {},
   "source": [
    "# Grid Layout and Entry Widget"
   ]
  },
  {
   "cell_type": "code",
   "execution_count": 1,
   "metadata": {},
   "outputs": [],
   "source": [
    "from tkinter import *"
   ]
  },
  {
   "cell_type": "code",
   "execution_count": 23,
   "metadata": {},
   "outputs": [
    {
     "name": "stdout",
     "output_type": "stream",
     "text": [
      "The username is: faisal\n",
      "Password is: amin\n"
     ]
    }
   ],
   "source": [
    "root = Tk()\n",
    "root.geometry(\"600x300\")\n",
    "root.title(\"User Form\")\n",
    "\n",
    "\n",
    "\n",
    "#                                            displayValues function\n",
    "\n",
    "def displayValues():\n",
    "    print(f\"The username is: {userEntry.get()}\")\n",
    "    print(f\"Password is: {passentry.get()}\")\n",
    "\n",
    "#                                               Label Widget\n",
    "\n",
    "username = Label(text = \"User name\")\n",
    "password = Label(text = \"Password\")\n",
    "username.grid(row = 0)\n",
    "password.grid(row = 1)\n",
    "\n",
    "#                                          Tkinter Variables\n",
    "\n",
    "''' There are 4 types of Tkinter Variables \n",
    "1. StringVar()\n",
    "2. IntVar()\n",
    "3. BoolVar()\n",
    "4. DoubleVar()'''\n",
    "\n",
    "userEntry = StringVar()\n",
    "passentry = StringVar()\n",
    " \n",
    "#                                               Entry Widget\n",
    "entry1 = Entry (textvariable = userEntry)\n",
    "entry2 = Entry (textvariable = passentry) \n",
    "entry1.grid(row = 0 , column = 1)\n",
    "entry2.grid(row = 1 , column = 1)\n",
    "\n",
    "\n",
    "#                                              Submit Button with Command\n",
    "\n",
    "b1 = Button(text = \"Submit\" , width = 12 , command = displayValues)\n",
    "b1.grid(column = 1)\n",
    "root.mainloop()"
   ]
  },
  {
   "cell_type": "code",
   "execution_count": null,
   "metadata": {},
   "outputs": [],
   "source": []
  },
  {
   "cell_type": "code",
   "execution_count": null,
   "metadata": {},
   "outputs": [],
   "source": []
  }
 ],
 "metadata": {
  "kernelspec": {
   "display_name": "Python 3",
   "language": "python",
   "name": "python3"
  },
  "language_info": {
   "codemirror_mode": {
    "name": "ipython",
    "version": 3
   },
   "file_extension": ".py",
   "mimetype": "text/x-python",
   "name": "python",
   "nbconvert_exporter": "python",
   "pygments_lexer": "ipython3",
   "version": "3.7.3"
  }
 },
 "nbformat": 4,
 "nbformat_minor": 2
}
