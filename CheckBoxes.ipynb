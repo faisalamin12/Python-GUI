{
 "cells": [
  {
   "cell_type": "code",
   "execution_count": 1,
   "metadata": {},
   "outputs": [],
   "source": [
    "from tkinter import *"
   ]
  },
  {
   "cell_type": "code",
   "execution_count": null,
   "metadata": {},
   "outputs": [
    {
     "name": "stdout",
     "output_type": "stream",
     "text": [
      "The name is:faisal and age is: 21\n",
      "\n"
     ]
    }
   ],
   "source": [
    "root = Tk()\n",
    "root.geometry(\"800x400\")\n",
    "\n",
    "def storeValues():\n",
    "    print(f\"The name is:{name.get()} and age is: {age.get()}\\n\")\n",
    "\n",
    "\n",
    "username = Label(text = \"Name\")\n",
    "password = Label(text = \"Age\")\n",
    "username.grid(row = 0 , column = 1)\n",
    "password.grid(row = 1 , column = 1)\n",
    "\n",
    "name = StringVar()\n",
    "age = StringVar()\n",
    "\n",
    "userEntry = Entry(textvariable = name)\n",
    "passEntry = Entry(textvariable = age)\n",
    "userEntry.grid(row = 0, column = 2)\n",
    "passEntry.grid(row = 1 , column = 2)\n",
    "submitButton = Button(text = \"Submit\" , command = storeValues)\n",
    "city = Checkbutton(text = \"Live in karachi\")\n",
    "city.grid(row = 2 , column = 2)\n",
    "submitButton.grid(row = 3 , column  = 2)\n",
    "\n",
    "\n",
    "\n",
    "\n",
    "\n",
    "\n",
    "root.mainloop()"
   ]
  },
  {
   "cell_type": "code",
   "execution_count": null,
   "metadata": {},
   "outputs": [],
   "source": []
  }
 ],
 "metadata": {
  "kernelspec": {
   "display_name": "Python 3",
   "language": "python",
   "name": "python3"
  },
  "language_info": {
   "codemirror_mode": {
    "name": "ipython",
    "version": 3
   },
   "file_extension": ".py",
   "mimetype": "text/x-python",
   "name": "python",
   "nbconvert_exporter": "python",
   "pygments_lexer": "ipython3",
   "version": "3.7.3"
  }
 },
 "nbformat": 4,
 "nbformat_minor": 2
}
