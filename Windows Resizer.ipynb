{
 "cells": [
  {
   "cell_type": "code",
   "execution_count": 1,
   "metadata": {},
   "outputs": [],
   "source": [
    "from tkinter import *"
   ]
  },
  {
   "cell_type": "code",
   "execution_count": 24,
   "metadata": {},
   "outputs": [],
   "source": [
    "root = Tk()\n",
    "root.geometry(\"250x200\")\n",
    "\n",
    "def resize():\n",
    "    root.geometry(f\"{width.get()}x{height.get()}\")\n",
    "\n",
    "your_height = Label(text = \"Height\")\n",
    "your_height.grid(row =0 , column = 1)\n",
    "\n",
    "your_width = Label(text = \"Width\")\n",
    "your_width.grid(row =1 , column = 1)\n",
    "\n",
    "width = StringVar()\n",
    "height = StringVar()\n",
    "\n",
    "width_entry = Entry(textvariable = width)\n",
    "width_entry.grid(row = 0 , column = 2)\n",
    "\n",
    "height_entry = Entry(textvariable = height)\n",
    "height_entry.grid(row = 1 , column = 2)\n",
    "\n",
    "apply_Button = Button(text = \"Apply\" , command = resize).grid(row = 2 , column = 2)\n",
    "\n",
    "\n",
    "\n",
    "\n",
    "\n",
    "\n",
    "\n",
    "root.mainloop()"
   ]
  },
  {
   "cell_type": "code",
   "execution_count": null,
   "metadata": {},
   "outputs": [],
   "source": []
  }
 ],
 "metadata": {
  "kernelspec": {
   "display_name": "Python 3",
   "language": "python",
   "name": "python3"
  },
  "language_info": {
   "codemirror_mode": {
    "name": "ipython",
    "version": 3
   },
   "file_extension": ".py",
   "mimetype": "text/x-python",
   "name": "python",
   "nbconvert_exporter": "python",
   "pygments_lexer": "ipython3",
   "version": "3.7.3"
  }
 },
 "nbformat": 4,
 "nbformat_minor": 2
}
