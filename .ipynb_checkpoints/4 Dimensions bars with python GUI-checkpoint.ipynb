{
 "cells": [
  {
   "cell_type": "code",
   "execution_count": 2,
   "metadata": {},
   "outputs": [],
   "source": [
    "from tkinter import *"
   ]
  },
  {
   "cell_type": "code",
   "execution_count": null,
   "metadata": {},
   "outputs": [],
   "source": [
    "root = Tk()\n",
    "root.geometry(\"500x400\")\n",
    "root.title(\"MY GUI\")\n",
    "#                           Bottom Bar\n",
    "my_label = Label(text = \"Ready!\" ,bg = \"purple\" , fg = \"white\", borderwidth = 10, relief = SUNKEN , font =(\"Georgia\" , 16 , \"bold\"))\n",
    "my_label.pack(side = BOTTOM, fill = X)\n",
    "\n",
    "\n",
    "#                           TOP Bar\n",
    "my_label2 = Label(text = \"GET SET!\" ,bg = \"purple\" , fg = \"white\", borderwidth = 10, relief = SUNKEN , font =(\"Georgia\" , 16 , \"bold\"))\n",
    "my_label2.pack(fill = X)\n",
    "\n",
    "#                          LEFT BAR\n",
    "my_label3 = Label(text = \"MY GUI\" ,bg = \"purple\" , fg = \"white\", borderwidth = 10, relief = SUNKEN , font =(\"Georgia\" , 16 , \"bold\"))\n",
    "my_label3.pack(fill = Y , side = LEFT)\n",
    "\n",
    "#                         RIGHT Bar\n",
    "\n",
    "my_label4 = Label(text = \"MY GUI\" ,bg = \"purple\" , fg = \"white\", borderwidth = 10, relief = SUNKEN , font =(\"Georgia\" , 16 , \"bold\"))\n",
    "my_label4.pack(fill = Y , side = RIGHT)\n",
    "\n",
    "root.mainloop()"
   ]
  },
  {
   "cell_type": "code",
   "execution_count": null,
   "metadata": {},
   "outputs": [],
   "source": []
  },
  {
   "cell_type": "code",
   "execution_count": null,
   "metadata": {},
   "outputs": [],
   "source": []
  }
 ],
 "metadata": {
  "kernelspec": {
   "display_name": "Python 3",
   "language": "python",
   "name": "python3"
  },
  "language_info": {
   "codemirror_mode": {
    "name": "ipython",
    "version": 3
   },
   "file_extension": ".py",
   "mimetype": "text/x-python",
   "name": "python",
   "nbconvert_exporter": "python",
   "pygments_lexer": "ipython3",
   "version": "3.7.3"
  }
 },
 "nbformat": 4,
 "nbformat_minor": 2
}
