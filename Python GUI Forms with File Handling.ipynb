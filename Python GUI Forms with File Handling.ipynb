{
 "cells": [
  {
   "cell_type": "code",
   "execution_count": 1,
   "metadata": {},
   "outputs": [],
   "source": [
    "from tkinter import *\n",
    "root = Tk()\n",
    "root.geometry(\"800x400\")\n",
    "\n",
    "def storeValues():\n",
    "    with open(\"data.txt\" , \"a\") as f:\n",
    "        f.write(f\"The username is:{userVar.get()} and Password is: {passVar.get()}\\n\")\n",
    "\n",
    "\n",
    "username = Label(text = \"Username\")\n",
    "password = Label(text = \"Password\")\n",
    "username.grid(row = 0 , column = 1)\n",
    "password.grid(row = 1 , column = 1)\n",
    "\n",
    "userVar = StringVar()\n",
    "passVar = StringVar()\n",
    "\n",
    "userEntry = Entry(textvariable = userVar)\n",
    "passEntry = Entry(textvariable = passVar)\n",
    "userEntry.grid(row = 0, column = 2)\n",
    "passEntry.grid(row = 1 , column = 2)\n",
    "submitButton = Button(text = \"Submit\" , command = storeValues)\n",
    "submitButton.grid(row = 3 , column  = 2)\n",
    "\n",
    "\n",
    "\n",
    "\n",
    "root.mainloop()"
   ]
  },
  {
   "cell_type": "code",
   "execution_count": null,
   "metadata": {},
   "outputs": [],
   "source": []
  }
 ],
 "metadata": {
  "kernelspec": {
   "display_name": "Python 3",
   "language": "python",
   "name": "python3"
  },
  "language_info": {
   "codemirror_mode": {
    "name": "ipython",
    "version": 3
   },
   "file_extension": ".py",
   "mimetype": "text/x-python",
   "name": "python",
   "nbconvert_exporter": "python",
   "pygments_lexer": "ipython3",
   "version": "3.7.3"
  }
 },
 "nbformat": 4,
 "nbformat_minor": 2
}
